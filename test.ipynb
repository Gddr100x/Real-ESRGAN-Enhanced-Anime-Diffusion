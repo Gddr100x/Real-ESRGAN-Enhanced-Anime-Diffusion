{
 "cells": [
  {
   "cell_type": "code",
   "execution_count": null,
   "id": "d9446f82-88b1-496a-b6b4-64045120f158",
   "metadata": {},
   "outputs": [
    {
     "name": "stdout",
     "output_type": "stream",
     "text": [
      "No CUDA GPU found in your device\n"
     ]
    }
   ],
   "source": [
    "from inference import inference"
   ]
  },
  {
   "cell_type": "code",
   "execution_count": null,
   "id": "5e5881ac-afc0-4654-b7e8-4522e51f34b6",
   "metadata": {},
   "outputs": [],
   "source": []
  }
 ],
 "metadata": {
  "kernelspec": {
   "display_name": "Python 3 (ipykernel)",
   "language": "python",
   "name": "python3"
  },
  "language_info": {
   "codemirror_mode": {
    "name": "ipython",
    "version": 3
   },
   "file_extension": ".py",
   "mimetype": "text/x-python",
   "name": "python",
   "nbconvert_exporter": "python",
   "pygments_lexer": "ipython3",
   "version": "3.9.15"
  }
 },
 "nbformat": 4,
 "nbformat_minor": 5
}
